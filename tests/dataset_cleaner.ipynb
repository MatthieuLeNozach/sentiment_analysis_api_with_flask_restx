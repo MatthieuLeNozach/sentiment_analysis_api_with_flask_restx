{
 "cells": [
  {
   "cell_type": "code",
   "execution_count": 14,
   "metadata": {},
   "outputs": [
    {
     "name": "stdout",
     "output_type": "stream",
     "text": [
      "                                                   0  1    2    3    4   5\n",
      "0                           Wow... Loved this place.  1  NaN  NaN  NaN NaN\n",
      "1                                 Crust is not good.  0  NaN  NaN  NaN NaN\n",
      "2          Not tasty and the texture was just nasty.  0  NaN  NaN  NaN NaN\n",
      "3  Stopped by during the late May bank holiday of...  1  NaN  NaN  NaN NaN\n",
      "4  The selection on the menu was great and so wer...  1  NaN  NaN  NaN NaN\n",
      "<class 'pandas.core.frame.DataFrame'>\n",
      "Index: 703 entries, 0 to 989\n",
      "Data columns (total 6 columns):\n",
      " #   Column  Non-Null Count  Dtype  \n",
      "---  ------  --------------  -----  \n",
      " 0   0       703 non-null    object \n",
      " 1   1       703 non-null    int64  \n",
      " 2   2       0 non-null      object \n",
      " 3   3       0 non-null      object \n",
      " 4   4       0 non-null      object \n",
      " 5   5       0 non-null      float64\n",
      "dtypes: float64(1), int64(1), object(4)\n",
      "memory usage: 38.4+ KB\n"
     ]
    }
   ],
   "source": [
    "import pandas as pd\n",
    "\n",
    "df = pd.read_csv('yelp_labelled.csv', header=None)\n",
    "df = df[df[1].str.match('^[01]$', na=False)]\n",
    "\n",
    "# Convert the sentiment column to integer\n",
    "df[1] = df[1].astype(int)\n",
    "\n",
    "# Display the first few rows and the info of the DataFrame\n",
    "print(df.head())\n",
    "df.info()"
   ]
  },
  {
   "cell_type": "code",
   "execution_count": 12,
   "metadata": {},
   "outputs": [],
   "source": [
    "df.iloc[:, 0:2].to_csv('yelp_text.csv', header=None, index=False)"
   ]
  }
 ],
 "metadata": {
  "kernelspec": {
   "display_name": "docker_ready",
   "language": "python",
   "name": "python3"
  },
  "language_info": {
   "codemirror_mode": {
    "name": "ipython",
    "version": 3
   },
   "file_extension": ".py",
   "mimetype": "text/x-python",
   "name": "python",
   "nbconvert_exporter": "python",
   "pygments_lexer": "ipython3",
   "version": "3.11.7"
  }
 },
 "nbformat": 4,
 "nbformat_minor": 2
}
